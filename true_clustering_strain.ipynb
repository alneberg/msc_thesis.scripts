{
 "cells": [
  {
   "cell_type": "code",
   "execution_count": 1,
   "metadata": {
    "collapsed": true
   },
   "outputs": [],
   "source": [
    "import pandas as pd\n",
    "import matplotlib as mpl\n",
    "\n",
    "%matplotlib inline"
   ]
  },
  {
   "cell_type": "code",
   "execution_count": 2,
   "metadata": {
    "collapsed": false
   },
   "outputs": [
    {
     "data": {
      "text/html": [
       "<div>\n",
       "<table border=\"1\" class=\"dataframe\">\n",
       "  <thead>\n",
       "    <tr style=\"text-align: right;\">\n",
       "      <th></th>\n",
       "      <th>unamb_read_count_gi|556503834|ref|NC_000913.3|Escherichia_coli_str._K-12_substr._MG1655,complete_genome</th>\n",
       "      <th>unamb_read_count_gi|407479587|ref|NC_018658.1|Escherichia_coli_O104:H4_str._2011C-3493_chromosome+plasmids,complete_genome</th>\n",
       "      <th>unamb_read_count_gi|15829254|ref|NC_002695.1|Escherichia_coli_O157:H7_str.Sakai_chromosome+plasmids,complete_genome</th>\n",
       "      <th>unamb_read_count_gi|91209055|ref|NC_007946.1|Escherichia_coli_UTI89_chromosome+plasmid,complete_genome</th>\n",
       "      <th>unamb_read_count_gi|215485161|ref|NC_011601.1|Escherichia_coli_O127:H6_str.E2348/69_chromosome+plasmids,complete_genome</th>\n",
       "      <th>unamb_read_count_gi|29611500|ref|NC_004703.1|_Bacteroides_thetaiotaomicron_VPI-5482_plasmid_p5482,_complete_sequence</th>\n",
       "      <th>unamb_read_count_gi|150002608|ref|NC_009614.1|_Bacteroides_vulgatus_ATCC_8482_chromosome,_complete_genome</th>\n",
       "      <th>unamb_read_count_gi|324959701|ref|NC_015166.1|_Bacteroides_salanitronis_DSM_18170_plasmid_pBACSA03,_complete_sequence</th>\n",
       "      <th>unamb_read_count_gi|375356399|ref|NC_016776.1|_Bacteroides_fragilis_638R,_complete_genome</th>\n",
       "      <th>unamb_read_count_gi|238922432|ref|NC_012781.1|_Eubacterium_rectale_ATCC_33656,_complete_genome</th>\n",
       "      <th>...</th>\n",
       "      <th>amb_read_count_gi|312132275|ref|NC_014656.1|_Bifidobacterium_longum_subsp._longum_BBMN68_chromosome,_complete_genome</th>\n",
       "      <th>amb_read_count_gi|347530298|ref|NC_015977.1|_Roseburia_hominis_A2-183_chromosome,_complete_genome</th>\n",
       "      <th>amb_read_count_gi|319899888|ref|NC_014933.1|_Bacteroides_helcogenes_P_36-108_chromosome,_complete_genome</th>\n",
       "      <th>amb_read_count_gi|116334879|ref|NC_008499.1|_Lactobacillus_brevis_ATCC_367_plasmid_2,_complete_sequence</th>\n",
       "      <th>amb_read_count_gi|187734516|ref|NC_010655.1|_Akkermansia_muciniphila_ATCC_BAA-835_chromosome,_complete_genome</th>\n",
       "      <th>amb_read_count_gi|410023236|ref|NC_018937.1|_Helicobacter_pylori_Rif1_chromosome,_complete_genome</th>\n",
       "      <th>amb_read_count_gi|397698507|ref|NC_018223.1|_Enterococcus_faecalis_D32_plasmid_EFD32pB,_complete_sequence</th>\n",
       "      <th>amb_read_count_gi|317054731|ref|NC_014833.1|_Ruminococcus_albus_7_chromosome,_complete_genome</th>\n",
       "      <th>amb_read_count_gi|383843669|ref|NC_017179.1|_Clostridium_difficile_BI1,_complete_genome</th>\n",
       "      <th>amb_read_count_gi|479208076|ref|NC_021042.1|_Faecalibacterium_prausnitzii_L2-6,_complete_genome</th>\n",
       "    </tr>\n",
       "    <tr>\n",
       "      <th>contig</th>\n",
       "      <th></th>\n",
       "      <th></th>\n",
       "      <th></th>\n",
       "      <th></th>\n",
       "      <th></th>\n",
       "      <th></th>\n",
       "      <th></th>\n",
       "      <th></th>\n",
       "      <th></th>\n",
       "      <th></th>\n",
       "      <th></th>\n",
       "      <th></th>\n",
       "      <th></th>\n",
       "      <th></th>\n",
       "      <th></th>\n",
       "      <th></th>\n",
       "      <th></th>\n",
       "      <th></th>\n",
       "      <th></th>\n",
       "      <th></th>\n",
       "      <th></th>\n",
       "    </tr>\n",
       "  </thead>\n",
       "  <tbody>\n",
       "    <tr>\n",
       "      <th>contig-576.9</th>\n",
       "      <td>0</td>\n",
       "      <td>0</td>\n",
       "      <td>0</td>\n",
       "      <td>0</td>\n",
       "      <td>0</td>\n",
       "      <td>0</td>\n",
       "      <td>0</td>\n",
       "      <td>0</td>\n",
       "      <td>0</td>\n",
       "      <td>0</td>\n",
       "      <td>...</td>\n",
       "      <td>0</td>\n",
       "      <td>0</td>\n",
       "      <td>0</td>\n",
       "      <td>0</td>\n",
       "      <td>0</td>\n",
       "      <td>0</td>\n",
       "      <td>0</td>\n",
       "      <td>0</td>\n",
       "      <td>0</td>\n",
       "      <td>0</td>\n",
       "    </tr>\n",
       "    <tr>\n",
       "      <th>contig-576.8</th>\n",
       "      <td>0</td>\n",
       "      <td>0</td>\n",
       "      <td>0</td>\n",
       "      <td>0</td>\n",
       "      <td>0</td>\n",
       "      <td>0</td>\n",
       "      <td>0</td>\n",
       "      <td>0</td>\n",
       "      <td>0</td>\n",
       "      <td>0</td>\n",
       "      <td>...</td>\n",
       "      <td>0</td>\n",
       "      <td>0</td>\n",
       "      <td>0</td>\n",
       "      <td>0</td>\n",
       "      <td>0</td>\n",
       "      <td>0</td>\n",
       "      <td>0</td>\n",
       "      <td>0</td>\n",
       "      <td>0</td>\n",
       "      <td>0</td>\n",
       "    </tr>\n",
       "    <tr>\n",
       "      <th>contig-7000474</th>\n",
       "      <td>29</td>\n",
       "      <td>244</td>\n",
       "      <td>16</td>\n",
       "      <td>65</td>\n",
       "      <td>67</td>\n",
       "      <td>0</td>\n",
       "      <td>0</td>\n",
       "      <td>0</td>\n",
       "      <td>0</td>\n",
       "      <td>0</td>\n",
       "      <td>...</td>\n",
       "      <td>0</td>\n",
       "      <td>0</td>\n",
       "      <td>0</td>\n",
       "      <td>0</td>\n",
       "      <td>0</td>\n",
       "      <td>0</td>\n",
       "      <td>0</td>\n",
       "      <td>0</td>\n",
       "      <td>0</td>\n",
       "      <td>0</td>\n",
       "    </tr>\n",
       "    <tr>\n",
       "      <th>contig-576.3</th>\n",
       "      <td>0</td>\n",
       "      <td>0</td>\n",
       "      <td>0</td>\n",
       "      <td>0</td>\n",
       "      <td>0</td>\n",
       "      <td>0</td>\n",
       "      <td>0</td>\n",
       "      <td>0</td>\n",
       "      <td>0</td>\n",
       "      <td>0</td>\n",
       "      <td>...</td>\n",
       "      <td>1</td>\n",
       "      <td>0</td>\n",
       "      <td>0</td>\n",
       "      <td>0</td>\n",
       "      <td>0</td>\n",
       "      <td>0</td>\n",
       "      <td>0</td>\n",
       "      <td>0</td>\n",
       "      <td>0</td>\n",
       "      <td>0</td>\n",
       "    </tr>\n",
       "    <tr>\n",
       "      <th>contig-576.2</th>\n",
       "      <td>0</td>\n",
       "      <td>0</td>\n",
       "      <td>0</td>\n",
       "      <td>0</td>\n",
       "      <td>0</td>\n",
       "      <td>0</td>\n",
       "      <td>0</td>\n",
       "      <td>0</td>\n",
       "      <td>0</td>\n",
       "      <td>0</td>\n",
       "      <td>...</td>\n",
       "      <td>0</td>\n",
       "      <td>0</td>\n",
       "      <td>0</td>\n",
       "      <td>0</td>\n",
       "      <td>0</td>\n",
       "      <td>0</td>\n",
       "      <td>0</td>\n",
       "      <td>0</td>\n",
       "      <td>0</td>\n",
       "      <td>0</td>\n",
       "    </tr>\n",
       "  </tbody>\n",
       "</table>\n",
       "<p>5 rows × 40 columns</p>\n",
       "</div>"
      ],
      "text/plain": [
       "                unamb_read_count_gi|556503834|ref|NC_000913.3|Escherichia_coli_str._K-12_substr._MG1655,complete_genome  \\\n",
       "contig                                                                                                                    \n",
       "contig-576.9                                                    0                                                         \n",
       "contig-576.8                                                    0                                                         \n",
       "contig-7000474                                                 29                                                         \n",
       "contig-576.3                                                    0                                                         \n",
       "contig-576.2                                                    0                                                         \n",
       "\n",
       "                unamb_read_count_gi|407479587|ref|NC_018658.1|Escherichia_coli_O104:H4_str._2011C-3493_chromosome+plasmids,complete_genome  \\\n",
       "contig                                                                                                                                       \n",
       "contig-576.9                                                    0                                                                            \n",
       "contig-576.8                                                    0                                                                            \n",
       "contig-7000474                                                244                                                                            \n",
       "contig-576.3                                                    0                                                                            \n",
       "contig-576.2                                                    0                                                                            \n",
       "\n",
       "                unamb_read_count_gi|15829254|ref|NC_002695.1|Escherichia_coli_O157:H7_str.Sakai_chromosome+plasmids,complete_genome  \\\n",
       "contig                                                                                                                                \n",
       "contig-576.9                                                    0                                                                     \n",
       "contig-576.8                                                    0                                                                     \n",
       "contig-7000474                                                 16                                                                     \n",
       "contig-576.3                                                    0                                                                     \n",
       "contig-576.2                                                    0                                                                     \n",
       "\n",
       "                unamb_read_count_gi|91209055|ref|NC_007946.1|Escherichia_coli_UTI89_chromosome+plasmid,complete_genome  \\\n",
       "contig                                                                                                                   \n",
       "contig-576.9                                                    0                                                        \n",
       "contig-576.8                                                    0                                                        \n",
       "contig-7000474                                                 65                                                        \n",
       "contig-576.3                                                    0                                                        \n",
       "contig-576.2                                                    0                                                        \n",
       "\n",
       "                unamb_read_count_gi|215485161|ref|NC_011601.1|Escherichia_coli_O127:H6_str.E2348/69_chromosome+plasmids,complete_genome  \\\n",
       "contig                                                                                                                                    \n",
       "contig-576.9                                                    0                                                                         \n",
       "contig-576.8                                                    0                                                                         \n",
       "contig-7000474                                                 67                                                                         \n",
       "contig-576.3                                                    0                                                                         \n",
       "contig-576.2                                                    0                                                                         \n",
       "\n",
       "                unamb_read_count_gi|29611500|ref|NC_004703.1|_Bacteroides_thetaiotaomicron_VPI-5482_plasmid_p5482,_complete_sequence  \\\n",
       "contig                                                                                                                                 \n",
       "contig-576.9                                                    0                                                                      \n",
       "contig-576.8                                                    0                                                                      \n",
       "contig-7000474                                                  0                                                                      \n",
       "contig-576.3                                                    0                                                                      \n",
       "contig-576.2                                                    0                                                                      \n",
       "\n",
       "                unamb_read_count_gi|150002608|ref|NC_009614.1|_Bacteroides_vulgatus_ATCC_8482_chromosome,_complete_genome  \\\n",
       "contig                                                                                                                      \n",
       "contig-576.9                                                    0                                                           \n",
       "contig-576.8                                                    0                                                           \n",
       "contig-7000474                                                  0                                                           \n",
       "contig-576.3                                                    0                                                           \n",
       "contig-576.2                                                    0                                                           \n",
       "\n",
       "                unamb_read_count_gi|324959701|ref|NC_015166.1|_Bacteroides_salanitronis_DSM_18170_plasmid_pBACSA03,_complete_sequence  \\\n",
       "contig                                                                                                                                  \n",
       "contig-576.9                                                    0                                                                       \n",
       "contig-576.8                                                    0                                                                       \n",
       "contig-7000474                                                  0                                                                       \n",
       "contig-576.3                                                    0                                                                       \n",
       "contig-576.2                                                    0                                                                       \n",
       "\n",
       "                unamb_read_count_gi|375356399|ref|NC_016776.1|_Bacteroides_fragilis_638R,_complete_genome  \\\n",
       "contig                                                                                                      \n",
       "contig-576.9                                                    0                                           \n",
       "contig-576.8                                                    0                                           \n",
       "contig-7000474                                                  0                                           \n",
       "contig-576.3                                                    0                                           \n",
       "contig-576.2                                                    0                                           \n",
       "\n",
       "                unamb_read_count_gi|238922432|ref|NC_012781.1|_Eubacterium_rectale_ATCC_33656,_complete_genome  \\\n",
       "contig                                                                                                           \n",
       "contig-576.9                                                    0                                                \n",
       "contig-576.8                                                    0                                                \n",
       "contig-7000474                                                  0                                                \n",
       "contig-576.3                                                    0                                                \n",
       "contig-576.2                                                    0                                                \n",
       "\n",
       "                                                             ...                                                 \\\n",
       "contig                                                       ...                                                  \n",
       "contig-576.9                                                 ...                                                  \n",
       "contig-576.8                                                 ...                                                  \n",
       "contig-7000474                                               ...                                                  \n",
       "contig-576.3                                                 ...                                                  \n",
       "contig-576.2                                                 ...                                                  \n",
       "\n",
       "                amb_read_count_gi|312132275|ref|NC_014656.1|_Bifidobacterium_longum_subsp._longum_BBMN68_chromosome,_complete_genome  \\\n",
       "contig                                                                                                                                 \n",
       "contig-576.9                                                    0                                                                      \n",
       "contig-576.8                                                    0                                                                      \n",
       "contig-7000474                                                  0                                                                      \n",
       "contig-576.3                                                    1                                                                      \n",
       "contig-576.2                                                    0                                                                      \n",
       "\n",
       "                amb_read_count_gi|347530298|ref|NC_015977.1|_Roseburia_hominis_A2-183_chromosome,_complete_genome  \\\n",
       "contig                                                                                                              \n",
       "contig-576.9                                                    0                                                   \n",
       "contig-576.8                                                    0                                                   \n",
       "contig-7000474                                                  0                                                   \n",
       "contig-576.3                                                    0                                                   \n",
       "contig-576.2                                                    0                                                   \n",
       "\n",
       "                amb_read_count_gi|319899888|ref|NC_014933.1|_Bacteroides_helcogenes_P_36-108_chromosome,_complete_genome  \\\n",
       "contig                                                                                                                     \n",
       "contig-576.9                                                    0                                                          \n",
       "contig-576.8                                                    0                                                          \n",
       "contig-7000474                                                  0                                                          \n",
       "contig-576.3                                                    0                                                          \n",
       "contig-576.2                                                    0                                                          \n",
       "\n",
       "                amb_read_count_gi|116334879|ref|NC_008499.1|_Lactobacillus_brevis_ATCC_367_plasmid_2,_complete_sequence  \\\n",
       "contig                                                                                                                    \n",
       "contig-576.9                                                    0                                                         \n",
       "contig-576.8                                                    0                                                         \n",
       "contig-7000474                                                  0                                                         \n",
       "contig-576.3                                                    0                                                         \n",
       "contig-576.2                                                    0                                                         \n",
       "\n",
       "                amb_read_count_gi|187734516|ref|NC_010655.1|_Akkermansia_muciniphila_ATCC_BAA-835_chromosome,_complete_genome  \\\n",
       "contig                                                                                                                          \n",
       "contig-576.9                                                    0                                                               \n",
       "contig-576.8                                                    0                                                               \n",
       "contig-7000474                                                  0                                                               \n",
       "contig-576.3                                                    0                                                               \n",
       "contig-576.2                                                    0                                                               \n",
       "\n",
       "                amb_read_count_gi|410023236|ref|NC_018937.1|_Helicobacter_pylori_Rif1_chromosome,_complete_genome  \\\n",
       "contig                                                                                                              \n",
       "contig-576.9                                                    0                                                   \n",
       "contig-576.8                                                    0                                                   \n",
       "contig-7000474                                                  0                                                   \n",
       "contig-576.3                                                    0                                                   \n",
       "contig-576.2                                                    0                                                   \n",
       "\n",
       "                amb_read_count_gi|397698507|ref|NC_018223.1|_Enterococcus_faecalis_D32_plasmid_EFD32pB,_complete_sequence  \\\n",
       "contig                                                                                                                      \n",
       "contig-576.9                                                    0                                                           \n",
       "contig-576.8                                                    0                                                           \n",
       "contig-7000474                                                  0                                                           \n",
       "contig-576.3                                                    0                                                           \n",
       "contig-576.2                                                    0                                                           \n",
       "\n",
       "                amb_read_count_gi|317054731|ref|NC_014833.1|_Ruminococcus_albus_7_chromosome,_complete_genome  \\\n",
       "contig                                                                                                          \n",
       "contig-576.9                                                    0                                               \n",
       "contig-576.8                                                    0                                               \n",
       "contig-7000474                                                  0                                               \n",
       "contig-576.3                                                    0                                               \n",
       "contig-576.2                                                    0                                               \n",
       "\n",
       "                amb_read_count_gi|383843669|ref|NC_017179.1|_Clostridium_difficile_BI1,_complete_genome  \\\n",
       "contig                                                                                                    \n",
       "contig-576.9                                                    0                                         \n",
       "contig-576.8                                                    0                                         \n",
       "contig-7000474                                                  0                                         \n",
       "contig-576.3                                                    0                                         \n",
       "contig-576.2                                                    0                                         \n",
       "\n",
       "                amb_read_count_gi|479208076|ref|NC_021042.1|_Faecalibacterium_prausnitzii_L2-6,_complete_genome  \n",
       "contig                                                                                                           \n",
       "contig-576.9                                                    0                                                \n",
       "contig-576.8                                                    0                                                \n",
       "contig-7000474                                                  0                                                \n",
       "contig-576.3                                                    0                                                \n",
       "contig-576.2                                                    0                                                \n",
       "\n",
       "[5 rows x 40 columns]"
      ]
     },
     "execution_count": 2,
     "metadata": {},
     "output_type": "execute_result"
    }
   ],
   "source": [
    "df = pd.read_table(\"data/contig_count_per_genome_strain.tsv\", index_col=0)\n",
    "df.head()"
   ]
  },
  {
   "cell_type": "code",
   "execution_count": 3,
   "metadata": {
    "collapsed": false
   },
   "outputs": [
    {
     "data": {
      "text/plain": [
       "['unamb_read_count_gi|556503834|ref|NC_000913.3|Escherichia_coli_str._K-12_substr._MG1655,complete_genome',\n",
       " 'unamb_read_count_gi|407479587|ref|NC_018658.1|Escherichia_coli_O104:H4_str._2011C-3493_chromosome+plasmids,complete_genome',\n",
       " 'unamb_read_count_gi|15829254|ref|NC_002695.1|Escherichia_coli_O157:H7_str.Sakai_chromosome+plasmids,complete_genome',\n",
       " 'unamb_read_count_gi|91209055|ref|NC_007946.1|Escherichia_coli_UTI89_chromosome+plasmid,complete_genome',\n",
       " 'unamb_read_count_gi|215485161|ref|NC_011601.1|Escherichia_coli_O127:H6_str.E2348/69_chromosome+plasmids,complete_genome',\n",
       " 'unamb_read_count_gi|29611500|ref|NC_004703.1|_Bacteroides_thetaiotaomicron_VPI-5482_plasmid_p5482,_complete_sequence',\n",
       " 'unamb_read_count_gi|150002608|ref|NC_009614.1|_Bacteroides_vulgatus_ATCC_8482_chromosome,_complete_genome',\n",
       " 'unamb_read_count_gi|324959701|ref|NC_015166.1|_Bacteroides_salanitronis_DSM_18170_plasmid_pBACSA03,_complete_sequence',\n",
       " 'unamb_read_count_gi|375356399|ref|NC_016776.1|_Bacteroides_fragilis_638R,_complete_genome',\n",
       " 'unamb_read_count_gi|238922432|ref|NC_012781.1|_Eubacterium_rectale_ATCC_33656,_complete_genome',\n",
       " 'unamb_read_count_gi|312132275|ref|NC_014656.1|_Bifidobacterium_longum_subsp._longum_BBMN68_chromosome,_complete_genome',\n",
       " 'unamb_read_count_gi|347530298|ref|NC_015977.1|_Roseburia_hominis_A2-183_chromosome,_complete_genome',\n",
       " 'unamb_read_count_gi|319899888|ref|NC_014933.1|_Bacteroides_helcogenes_P_36-108_chromosome,_complete_genome',\n",
       " 'unamb_read_count_gi|116334879|ref|NC_008499.1|_Lactobacillus_brevis_ATCC_367_plasmid_2,_complete_sequence',\n",
       " 'unamb_read_count_gi|187734516|ref|NC_010655.1|_Akkermansia_muciniphila_ATCC_BAA-835_chromosome,_complete_genome',\n",
       " 'unamb_read_count_gi|410023236|ref|NC_018937.1|_Helicobacter_pylori_Rif1_chromosome,_complete_genome',\n",
       " 'unamb_read_count_gi|397698507|ref|NC_018223.1|_Enterococcus_faecalis_D32_plasmid_EFD32pB,_complete_sequence',\n",
       " 'unamb_read_count_gi|317054731|ref|NC_014833.1|_Ruminococcus_albus_7_chromosome,_complete_genome',\n",
       " 'unamb_read_count_gi|383843669|ref|NC_017179.1|_Clostridium_difficile_BI1,_complete_genome',\n",
       " 'unamb_read_count_gi|479208076|ref|NC_021042.1|_Faecalibacterium_prausnitzii_L2-6,_complete_genome']"
      ]
     },
     "execution_count": 3,
     "metadata": {},
     "output_type": "execute_result"
    }
   ],
   "source": [
    "val_cols_all = list(df.columns)\n",
    "val_cols = []\n",
    "for col in val_cols_all:\n",
    "    if not col.startswith('amb_read_count'):\n",
    "        val_cols.append(col)\n",
    "val_cols"
   ]
  },
  {
   "cell_type": "code",
   "execution_count": 4,
   "metadata": {
    "collapsed": false
   },
   "outputs": [],
   "source": [
    "df['total_nr_reads'] = df[val_cols].sum(axis=1)"
   ]
  },
  {
   "cell_type": "code",
   "execution_count": 5,
   "metadata": {
    "collapsed": true
   },
   "outputs": [],
   "source": [
    "taxon_short_names_d = {\n",
    "    \"Escherichia_coli_O157:H7_str.Sakai_chromosome+plasmids\": \"ESC_COL_O157\",\n",
    "    \"Escherichia_coli_O127:H6_str.E2348/69_chromosome+plasmids\": \"ESC_COL_O127\",\n",
    "    \"Escherichia_coli_O104:H4_str._2011C-3493_chromosome+plasmids\": \"ESC_COL_O104\",\n",
    "    \"Escherichia_coli_str._K-12_substr._MG1655\": \"ESC_COL_K12\",\n",
    "    \"Escherichia_coli_UTI89_chromosome+plasmid\": \"ESC_COL_UT189\"\n",
    "}"
   ]
  },
  {
   "cell_type": "code",
   "execution_count": 6,
   "metadata": {
    "collapsed": false
   },
   "outputs": [
    {
     "name": "stdout",
     "output_type": "stream",
     "text": [
      "LAC_BRE\n",
      "BAC_VUL\n",
      "ESC_COL_O157\n",
      "AKK_MUC\n",
      "ESC_COL_O127\n",
      "EUB_REC\n",
      "BAC_THE\n",
      "BIF_LON\n",
      "RUM_ALB\n",
      "BAC_HEL\n",
      "BAC_SAL\n",
      "ROS_HOM\n",
      "BAC_FRA\n",
      "CLO_DIF\n",
      "ENT_FAE\n",
      "ESC_COL_O104\n",
      "HEL_PYL\n",
      "FAE_PRA\n",
      "ESC_COL_K12\n",
      "ESC_COL_UT189\n"
     ]
    }
   ],
   "source": [
    "for col in sorted(val_cols):\n",
    "    taxon_complete = col.split('|')[-1].split(',')[0] \n",
    "    if taxon_complete in taxon_short_names_d:\n",
    "        print(taxon_short_names_d[taxon_complete])\n",
    "    else:\n",
    "        print(\"_\".join([x[0:3].upper() for x in taxon_complete.split('_')[1:3]]))"
   ]
  },
  {
   "cell_type": "code",
   "execution_count": 7,
   "metadata": {
    "collapsed": false
   },
   "outputs": [
    {
     "name": "stdout",
     "output_type": "stream",
     "text": [
      "ESC_COL_O157\n",
      "ESC_COL_O127\n",
      "ESC_COL_O104\n",
      "ESC_COL_K12\n",
      "ESC_COL_UT189\n"
     ]
    }
   ],
   "source": [
    "for col in sorted(val_cols):\n",
    "    taxon_complete = col.split('|')[-1].split(',')[0] \n",
    "    if taxon_complete in taxon_short_names_d:\n",
    "        print(taxon_short_names_d[taxon_complete])\n",
    "    else:\n",
    "        taxon_short_names_d[taxon_complete] = \"_\".join([x[0:3].upper() for x in taxon_complete.split('_')[1:3]])"
   ]
  },
  {
   "cell_type": "code",
   "execution_count": 8,
   "metadata": {
    "collapsed": false
   },
   "outputs": [
    {
     "data": {
      "text/plain": [
       "{'Escherichia_coli_O104:H4_str._2011C-3493_chromosome+plasmids': 'ESC_COL_O104',\n",
       " 'Escherichia_coli_O127:H6_str.E2348/69_chromosome+plasmids': 'ESC_COL_O127',\n",
       " 'Escherichia_coli_O157:H7_str.Sakai_chromosome+plasmids': 'ESC_COL_O157',\n",
       " 'Escherichia_coli_UTI89_chromosome+plasmid': 'ESC_COL_UT189',\n",
       " 'Escherichia_coli_str._K-12_substr._MG1655': 'ESC_COL_K12',\n",
       " '_Akkermansia_muciniphila_ATCC_BAA-835_chromosome': 'AKK_MUC',\n",
       " '_Bacteroides_fragilis_638R': 'BAC_FRA',\n",
       " '_Bacteroides_helcogenes_P_36-108_chromosome': 'BAC_HEL',\n",
       " '_Bacteroides_salanitronis_DSM_18170_plasmid_pBACSA03': 'BAC_SAL',\n",
       " '_Bacteroides_thetaiotaomicron_VPI-5482_plasmid_p5482': 'BAC_THE',\n",
       " '_Bacteroides_vulgatus_ATCC_8482_chromosome': 'BAC_VUL',\n",
       " '_Bifidobacterium_longum_subsp._longum_BBMN68_chromosome': 'BIF_LON',\n",
       " '_Clostridium_difficile_BI1': 'CLO_DIF',\n",
       " '_Enterococcus_faecalis_D32_plasmid_EFD32pB': 'ENT_FAE',\n",
       " '_Eubacterium_rectale_ATCC_33656': 'EUB_REC',\n",
       " '_Faecalibacterium_prausnitzii_L2-6': 'FAE_PRA',\n",
       " '_Helicobacter_pylori_Rif1_chromosome': 'HEL_PYL',\n",
       " '_Lactobacillus_brevis_ATCC_367_plasmid_2': 'LAC_BRE',\n",
       " '_Roseburia_hominis_A2-183_chromosome': 'ROS_HOM',\n",
       " '_Ruminococcus_albus_7_chromosome': 'RUM_ALB'}"
      ]
     },
     "execution_count": 8,
     "metadata": {},
     "output_type": "execute_result"
    }
   ],
   "source": [
    "taxon_short_names_d"
   ]
  },
  {
   "cell_type": "code",
   "execution_count": 9,
   "metadata": {
    "collapsed": true
   },
   "outputs": [],
   "source": [
    "classification = df[(df[val_cols].max(axis=1) >= 10) & (df[val_cols].max(axis=1).divide(df['total_nr_reads']) > 0.500)][val_cols].idxmax(axis=1)\n",
    "classification_df = pd.DataFrame(index=classification.index)\n",
    "classification_df['taxon'] = classification.apply(lambda x: taxon_short_names_d[x.split('|')[-1].split(',')[0]])"
   ]
  },
  {
   "cell_type": "code",
   "execution_count": 10,
   "metadata": {
    "collapsed": true
   },
   "outputs": [],
   "source": [
    "classification_df['fraction_of_reads'] = df[val_cols].max(axis=1).divide(df['total_nr_reads'])\n",
    "classification_df['total_nr_reads'] = df['total_nr_reads']"
   ]
  },
  {
   "cell_type": "code",
   "execution_count": 11,
   "metadata": {
    "collapsed": false
   },
   "outputs": [
    {
     "data": {
      "text/html": [
       "<div>\n",
       "<table border=\"1\" class=\"dataframe\">\n",
       "  <thead>\n",
       "    <tr style=\"text-align: right;\">\n",
       "      <th></th>\n",
       "      <th>taxon</th>\n",
       "      <th>fraction_of_reads</th>\n",
       "      <th>total_nr_reads</th>\n",
       "    </tr>\n",
       "    <tr>\n",
       "      <th>contig</th>\n",
       "      <th></th>\n",
       "      <th></th>\n",
       "      <th></th>\n",
       "    </tr>\n",
       "  </thead>\n",
       "  <tbody>\n",
       "    <tr>\n",
       "      <th>contig-576.9</th>\n",
       "      <td>BIF_LON</td>\n",
       "      <td>1.000000</td>\n",
       "      <td>287957</td>\n",
       "    </tr>\n",
       "    <tr>\n",
       "      <th>contig-576.8</th>\n",
       "      <td>BIF_LON</td>\n",
       "      <td>1.000000</td>\n",
       "      <td>287006</td>\n",
       "    </tr>\n",
       "    <tr>\n",
       "      <th>contig-7000474</th>\n",
       "      <td>ESC_COL_O104</td>\n",
       "      <td>0.579572</td>\n",
       "      <td>421</td>\n",
       "    </tr>\n",
       "    <tr>\n",
       "      <th>contig-576.3</th>\n",
       "      <td>BIF_LON</td>\n",
       "      <td>1.000000</td>\n",
       "      <td>288719</td>\n",
       "    </tr>\n",
       "    <tr>\n",
       "      <th>contig-576.2</th>\n",
       "      <td>BIF_LON</td>\n",
       "      <td>1.000000</td>\n",
       "      <td>288238</td>\n",
       "    </tr>\n",
       "  </tbody>\n",
       "</table>\n",
       "</div>"
      ],
      "text/plain": [
       "                       taxon  fraction_of_reads  total_nr_reads\n",
       "contig                                                         \n",
       "contig-576.9         BIF_LON           1.000000          287957\n",
       "contig-576.8         BIF_LON           1.000000          287006\n",
       "contig-7000474  ESC_COL_O104           0.579572             421\n",
       "contig-576.3         BIF_LON           1.000000          288719\n",
       "contig-576.2         BIF_LON           1.000000          288238"
      ]
     },
     "execution_count": 11,
     "metadata": {},
     "output_type": "execute_result"
    }
   ],
   "source": [
    "classification_df.head()"
   ]
  },
  {
   "cell_type": "code",
   "execution_count": 12,
   "metadata": {
    "collapsed": false
   },
   "outputs": [
    {
     "data": {
      "text/plain": [
       "(10957, 11471)"
      ]
     },
     "execution_count": 12,
     "metadata": {},
     "output_type": "execute_result"
    }
   ],
   "source": [
    "len(classification_df), len(df)"
   ]
  },
  {
   "cell_type": "code",
   "execution_count": 13,
   "metadata": {
    "collapsed": true
   },
   "outputs": [],
   "source": [
    "classification_df.to_csv(\"data/true_clustering_strain.csv\", header=None)"
   ]
  },
  {
   "cell_type": "code",
   "execution_count": 15,
   "metadata": {
    "collapsed": false
   },
   "outputs": [
    {
     "data": {
      "text/plain": [
       "unamb_read_count_gi|556503834|ref|NC_000913.3|Escherichia_coli_str._K-12_substr._MG1655,complete_genome                           2\n",
       "unamb_read_count_gi|407479587|ref|NC_018658.1|Escherichia_coli_O104:H4_str._2011C-3493_chromosome+plasmids,complete_genome        1\n",
       "unamb_read_count_gi|15829254|ref|NC_002695.1|Escherichia_coli_O157:H7_str.Sakai_chromosome+plasmids,complete_genome               3\n",
       "unamb_read_count_gi|91209055|ref|NC_007946.1|Escherichia_coli_UTI89_chromosome+plasmid,complete_genome                            1\n",
       "unamb_read_count_gi|215485161|ref|NC_011601.1|Escherichia_coli_O127:H6_str.E2348/69_chromosome+plasmids,complete_genome           8\n",
       "unamb_read_count_gi|29611500|ref|NC_004703.1|_Bacteroides_thetaiotaomicron_VPI-5482_plasmid_p5482,_complete_sequence              0\n",
       "unamb_read_count_gi|150002608|ref|NC_009614.1|_Bacteroides_vulgatus_ATCC_8482_chromosome,_complete_genome                         0\n",
       "unamb_read_count_gi|324959701|ref|NC_015166.1|_Bacteroides_salanitronis_DSM_18170_plasmid_pBACSA03,_complete_sequence             0\n",
       "unamb_read_count_gi|375356399|ref|NC_016776.1|_Bacteroides_fragilis_638R,_complete_genome                                         0\n",
       "unamb_read_count_gi|238922432|ref|NC_012781.1|_Eubacterium_rectale_ATCC_33656,_complete_genome                                    0\n",
       "unamb_read_count_gi|312132275|ref|NC_014656.1|_Bifidobacterium_longum_subsp._longum_BBMN68_chromosome,_complete_genome            0\n",
       "unamb_read_count_gi|347530298|ref|NC_015977.1|_Roseburia_hominis_A2-183_chromosome,_complete_genome                               0\n",
       "unamb_read_count_gi|319899888|ref|NC_014933.1|_Bacteroides_helcogenes_P_36-108_chromosome,_complete_genome                        0\n",
       "unamb_read_count_gi|116334879|ref|NC_008499.1|_Lactobacillus_brevis_ATCC_367_plasmid_2,_complete_sequence                         0\n",
       "unamb_read_count_gi|187734516|ref|NC_010655.1|_Akkermansia_muciniphila_ATCC_BAA-835_chromosome,_complete_genome                   0\n",
       "unamb_read_count_gi|410023236|ref|NC_018937.1|_Helicobacter_pylori_Rif1_chromosome,_complete_genome                               0\n",
       "unamb_read_count_gi|397698507|ref|NC_018223.1|_Enterococcus_faecalis_D32_plasmid_EFD32pB,_complete_sequence                       0\n",
       "unamb_read_count_gi|317054731|ref|NC_014833.1|_Ruminococcus_albus_7_chromosome,_complete_genome                                   0\n",
       "unamb_read_count_gi|383843669|ref|NC_017179.1|_Clostridium_difficile_BI1,_complete_genome                                         0\n",
       "unamb_read_count_gi|479208076|ref|NC_021042.1|_Faecalibacterium_prausnitzii_L2-6,_complete_genome                                 0\n",
       "amb_read_count_gi|556503834|ref|NC_000913.3|Escherichia_coli_str._K-12_substr._MG1655,complete_genome                             1\n",
       "amb_read_count_gi|407479587|ref|NC_018658.1|Escherichia_coli_O104:H4_str._2011C-3493_chromosome+plasmids,complete_genome        336\n",
       "amb_read_count_gi|15829254|ref|NC_002695.1|Escherichia_coli_O157:H7_str.Sakai_chromosome+plasmids,complete_genome              1296\n",
       "amb_read_count_gi|91209055|ref|NC_007946.1|Escherichia_coli_UTI89_chromosome+plasmid,complete_genome                            380\n",
       "amb_read_count_gi|215485161|ref|NC_011601.1|Escherichia_coli_O127:H6_str.E2348/69_chromosome+plasmids,complete_genome         12631\n",
       "amb_read_count_gi|29611500|ref|NC_004703.1|_Bacteroides_thetaiotaomicron_VPI-5482_plasmid_p5482,_complete_sequence                0\n",
       "amb_read_count_gi|150002608|ref|NC_009614.1|_Bacteroides_vulgatus_ATCC_8482_chromosome,_complete_genome                           0\n",
       "amb_read_count_gi|324959701|ref|NC_015166.1|_Bacteroides_salanitronis_DSM_18170_plasmid_pBACSA03,_complete_sequence               0\n",
       "amb_read_count_gi|375356399|ref|NC_016776.1|_Bacteroides_fragilis_638R,_complete_genome                                           0\n",
       "amb_read_count_gi|238922432|ref|NC_012781.1|_Eubacterium_rectale_ATCC_33656,_complete_genome                                      0\n",
       "amb_read_count_gi|312132275|ref|NC_014656.1|_Bifidobacterium_longum_subsp._longum_BBMN68_chromosome,_complete_genome              0\n",
       "amb_read_count_gi|347530298|ref|NC_015977.1|_Roseburia_hominis_A2-183_chromosome,_complete_genome                                 0\n",
       "amb_read_count_gi|319899888|ref|NC_014933.1|_Bacteroides_helcogenes_P_36-108_chromosome,_complete_genome                          0\n",
       "amb_read_count_gi|116334879|ref|NC_008499.1|_Lactobacillus_brevis_ATCC_367_plasmid_2,_complete_sequence                           0\n",
       "amb_read_count_gi|187734516|ref|NC_010655.1|_Akkermansia_muciniphila_ATCC_BAA-835_chromosome,_complete_genome                     0\n",
       "amb_read_count_gi|410023236|ref|NC_018937.1|_Helicobacter_pylori_Rif1_chromosome,_complete_genome                                 0\n",
       "amb_read_count_gi|397698507|ref|NC_018223.1|_Enterococcus_faecalis_D32_plasmid_EFD32pB,_complete_sequence                         0\n",
       "amb_read_count_gi|317054731|ref|NC_014833.1|_Ruminococcus_albus_7_chromosome,_complete_genome                                     0\n",
       "amb_read_count_gi|383843669|ref|NC_017179.1|_Clostridium_difficile_BI1,_complete_genome                                           0\n",
       "amb_read_count_gi|479208076|ref|NC_021042.1|_Faecalibacterium_prausnitzii_L2-6,_complete_genome                                   0\n",
       "total_nr_reads                                                                                                                   15\n",
       "Name: contig-4000206, dtype: int64"
      ]
     },
     "execution_count": 15,
     "metadata": {},
     "output_type": "execute_result"
    }
   ],
   "source": [
    "df.ix['contig-4000206']"
   ]
  },
  {
   "cell_type": "code",
   "execution_count": null,
   "metadata": {
    "collapsed": true
   },
   "outputs": [],
   "source": []
  }
 ],
 "metadata": {
  "kernelspec": {
   "display_name": "Python 3",
   "language": "python",
   "name": "python3"
  },
  "language_info": {
   "codemirror_mode": {
    "name": "ipython",
    "version": 3
   },
   "file_extension": ".py",
   "mimetype": "text/x-python",
   "name": "python",
   "nbconvert_exporter": "python",
   "pygments_lexer": "ipython3",
   "version": "3.5.1"
  }
 },
 "nbformat": 4,
 "nbformat_minor": 0
}
